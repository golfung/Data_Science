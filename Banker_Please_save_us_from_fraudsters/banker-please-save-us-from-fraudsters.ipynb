{
 "cells": [
  {
   "cell_type": "markdown",
   "id": "f6418f91",
   "metadata": {
    "papermill": {
     "duration": 0.01442,
     "end_time": "2023-03-12T17:50:20.573171",
     "exception": false,
     "start_time": "2023-03-12T17:50:20.558751",
     "status": "completed"
    },
    "tags": []
   },
   "source": [
    "# Welcome to Golf Nattapat's portfolio\n",
    "\n",
    "### Inspiration\n",
    "\n",
    "I have heard a lot of news that many people have been tricked into transferring money from banking apps to fraudsters. As a result, many people have lost their jobs, and their families are in trouble. For some people, the stolen money is their life savings. What shocked me the most was hearing about youths who have hanged themselves after being deceived into transferring money to fraudsters.\n",
    "\n",
    "Many times, the media only reminds us to be careful and not give personal information to anyone, or to download suspicious apps onto our phones. However, I think one way that should be dealt with immediately is through the bank's own system.\n",
    "\n",
    "Unfortunately, financial transaction data is quite scarce in my country, Thailand. Therefore, I have used the following information to shed some light on patterns and ways to protect against scammers. This is the source that I refer to https://www.kaggle.com/datasets/ealaxi/paysim1"
   ]
  },
  {
   "cell_type": "markdown",
   "id": "ac862df8",
   "metadata": {
    "papermill": {
     "duration": 0.012537,
     "end_time": "2023-03-12T17:50:20.598611",
     "exception": false,
     "start_time": "2023-03-12T17:50:20.586074",
     "status": "completed"
    },
    "tags": []
   },
   "source": [
    "# Ask\n",
    "\n",
    "What types of financial transactions exist? We may be at risk of unwittingly transferring money to fraudsters."
   ]
  },
  {
   "cell_type": "markdown",
   "id": "bffae5b2",
   "metadata": {
    "papermill": {
     "duration": 0.012784,
     "end_time": "2023-03-12T17:50:20.624118",
     "exception": false,
     "start_time": "2023-03-12T17:50:20.611334",
     "status": "completed"
    },
    "tags": []
   },
   "source": [
    "# Process data"
   ]
  },
  {
   "cell_type": "code",
   "execution_count": 1,
   "id": "3645eaba",
   "metadata": {
    "execution": {
     "iopub.execute_input": "2023-03-12T17:50:20.653089Z",
     "iopub.status.busy": "2023-03-12T17:50:20.652681Z",
     "iopub.status.idle": "2023-03-12T17:50:22.060400Z",
     "shell.execute_reply": "2023-03-12T17:50:22.058952Z"
    },
    "papermill": {
     "duration": 1.42537,
     "end_time": "2023-03-12T17:50:22.063601",
     "exception": false,
     "start_time": "2023-03-12T17:50:20.638231",
     "status": "completed"
    },
    "tags": []
   },
   "outputs": [],
   "source": [
    "# Import library\n",
    "\n",
    "import pandas as pd\n",
    "import numpy as np\n",
    "\n",
    "import matplotlib.pyplot as plt\n",
    "import seaborn as sns\n",
    "\n",
    "from sklearn.model_selection import train_test_split\n",
    "from sklearn.metrics import confusion_matrix\n",
    "from sklearn.metrics import accuracy_score, precision_score, recall_score, f1_score"
   ]
  },
  {
   "cell_type": "code",
   "execution_count": 2,
   "id": "8d452350",
   "metadata": {
    "execution": {
     "iopub.execute_input": "2023-03-12T17:50:22.092263Z",
     "iopub.status.busy": "2023-03-12T17:50:22.091790Z",
     "iopub.status.idle": "2023-03-12T17:50:40.644690Z",
     "shell.execute_reply": "2023-03-12T17:50:40.643528Z"
    },
    "papermill": {
     "duration": 18.570168,
     "end_time": "2023-03-12T17:50:40.647074",
     "exception": false,
     "start_time": "2023-03-12T17:50:22.076906",
     "status": "completed"
    },
    "tags": []
   },
   "outputs": [
    {
     "data": {
      "text/plain": [
       "(6362620, 11)"
      ]
     },
     "execution_count": 2,
     "metadata": {},
     "output_type": "execute_result"
    }
   ],
   "source": [
    "# Load data set\n",
    "df = pd.read_csv('/kaggle/input/paysim1/PS_20174392719_1491204439457_log.csv')\n",
    "df.shape"
   ]
  },
  {
   "cell_type": "markdown",
   "id": "c5d20425",
   "metadata": {
    "papermill": {
     "duration": 0.012435,
     "end_time": "2023-03-12T17:50:40.672545",
     "exception": false,
     "start_time": "2023-03-12T17:50:40.660110",
     "status": "completed"
    },
    "tags": []
   },
   "source": [
    "# Data cleaning"
   ]
  },
  {
   "cell_type": "code",
   "execution_count": 3,
   "id": "0536af4e",
   "metadata": {
    "execution": {
     "iopub.execute_input": "2023-03-12T17:50:40.700239Z",
     "iopub.status.busy": "2023-03-12T17:50:40.699821Z",
     "iopub.status.idle": "2023-03-12T17:50:40.728126Z",
     "shell.execute_reply": "2023-03-12T17:50:40.726951Z"
    },
    "papermill": {
     "duration": 0.045543,
     "end_time": "2023-03-12T17:50:40.730908",
     "exception": false,
     "start_time": "2023-03-12T17:50:40.685365",
     "status": "completed"
    },
    "tags": []
   },
   "outputs": [
    {
     "name": "stdout",
     "output_type": "stream",
     "text": [
      "<class 'pandas.core.frame.DataFrame'>\n",
      "RangeIndex: 6362620 entries, 0 to 6362619\n",
      "Data columns (total 11 columns):\n",
      " #   Column          Dtype  \n",
      "---  ------          -----  \n",
      " 0   step            int64  \n",
      " 1   type            object \n",
      " 2   amount          float64\n",
      " 3   nameOrig        object \n",
      " 4   oldbalanceOrg   float64\n",
      " 5   newbalanceOrig  float64\n",
      " 6   nameDest        object \n",
      " 7   oldbalanceDest  float64\n",
      " 8   newbalanceDest  float64\n",
      " 9   isFraud         int64  \n",
      " 10  isFlaggedFraud  int64  \n",
      "dtypes: float64(5), int64(3), object(3)\n",
      "memory usage: 534.0+ MB\n"
     ]
    }
   ],
   "source": [
    "# Check data\n",
    "\n",
    "df.info()\n"
   ]
  },
  {
   "cell_type": "code",
   "execution_count": 4,
   "id": "af68e583",
   "metadata": {
    "execution": {
     "iopub.execute_input": "2023-03-12T17:50:40.758764Z",
     "iopub.status.busy": "2023-03-12T17:50:40.758335Z",
     "iopub.status.idle": "2023-03-12T17:50:41.769715Z",
     "shell.execute_reply": "2023-03-12T17:50:41.768375Z"
    },
    "papermill": {
     "duration": 1.028437,
     "end_time": "2023-03-12T17:50:41.772490",
     "exception": false,
     "start_time": "2023-03-12T17:50:40.744053",
     "status": "completed"
    },
    "tags": []
   },
   "outputs": [
    {
     "data": {
      "text/plain": [
       "step              0\n",
       "type              0\n",
       "amount            0\n",
       "nameOrig          0\n",
       "oldbalanceOrg     0\n",
       "newbalanceOrig    0\n",
       "nameDest          0\n",
       "oldbalanceDest    0\n",
       "newbalanceDest    0\n",
       "isFraud           0\n",
       "isFlaggedFraud    0\n",
       "dtype: int64"
      ]
     },
     "execution_count": 4,
     "metadata": {},
     "output_type": "execute_result"
    }
   ],
   "source": [
    "# Check missing value\n",
    "df.isna().sum()"
   ]
  },
  {
   "cell_type": "code",
   "execution_count": 5,
   "id": "108f4c96",
   "metadata": {
    "execution": {
     "iopub.execute_input": "2023-03-12T17:50:41.800815Z",
     "iopub.status.busy": "2023-03-12T17:50:41.800367Z",
     "iopub.status.idle": "2023-03-12T17:50:41.830550Z",
     "shell.execute_reply": "2023-03-12T17:50:41.829379Z"
    },
    "papermill": {
     "duration": 0.047853,
     "end_time": "2023-03-12T17:50:41.833455",
     "exception": false,
     "start_time": "2023-03-12T17:50:41.785602",
     "status": "completed"
    },
    "tags": []
   },
   "outputs": [
    {
     "data": {
      "text/html": [
       "<div>\n",
       "<style scoped>\n",
       "    .dataframe tbody tr th:only-of-type {\n",
       "        vertical-align: middle;\n",
       "    }\n",
       "\n",
       "    .dataframe tbody tr th {\n",
       "        vertical-align: top;\n",
       "    }\n",
       "\n",
       "    .dataframe thead th {\n",
       "        text-align: right;\n",
       "    }\n",
       "</style>\n",
       "<table border=\"1\" class=\"dataframe\">\n",
       "  <thead>\n",
       "    <tr style=\"text-align: right;\">\n",
       "      <th></th>\n",
       "      <th>step</th>\n",
       "      <th>type</th>\n",
       "      <th>amount</th>\n",
       "      <th>nameOrig</th>\n",
       "      <th>oldbalanceOrg</th>\n",
       "      <th>newbalanceOrig</th>\n",
       "      <th>nameDest</th>\n",
       "      <th>oldbalanceDest</th>\n",
       "      <th>newbalanceDest</th>\n",
       "      <th>isFraud</th>\n",
       "      <th>isFlaggedFraud</th>\n",
       "    </tr>\n",
       "  </thead>\n",
       "  <tbody>\n",
       "    <tr>\n",
       "      <th>0</th>\n",
       "      <td>1</td>\n",
       "      <td>PAYMENT</td>\n",
       "      <td>9839.64</td>\n",
       "      <td>C1231006815</td>\n",
       "      <td>170136.0</td>\n",
       "      <td>160296.36</td>\n",
       "      <td>M1979787155</td>\n",
       "      <td>0.0</td>\n",
       "      <td>0.0</td>\n",
       "      <td>0</td>\n",
       "      <td>0</td>\n",
       "    </tr>\n",
       "    <tr>\n",
       "      <th>1</th>\n",
       "      <td>1</td>\n",
       "      <td>PAYMENT</td>\n",
       "      <td>1864.28</td>\n",
       "      <td>C1666544295</td>\n",
       "      <td>21249.0</td>\n",
       "      <td>19384.72</td>\n",
       "      <td>M2044282225</td>\n",
       "      <td>0.0</td>\n",
       "      <td>0.0</td>\n",
       "      <td>0</td>\n",
       "      <td>0</td>\n",
       "    </tr>\n",
       "    <tr>\n",
       "      <th>2</th>\n",
       "      <td>1</td>\n",
       "      <td>TRANSFER</td>\n",
       "      <td>181.00</td>\n",
       "      <td>C1305486145</td>\n",
       "      <td>181.0</td>\n",
       "      <td>0.00</td>\n",
       "      <td>C553264065</td>\n",
       "      <td>0.0</td>\n",
       "      <td>0.0</td>\n",
       "      <td>1</td>\n",
       "      <td>0</td>\n",
       "    </tr>\n",
       "    <tr>\n",
       "      <th>3</th>\n",
       "      <td>1</td>\n",
       "      <td>CASH_OUT</td>\n",
       "      <td>181.00</td>\n",
       "      <td>C840083671</td>\n",
       "      <td>181.0</td>\n",
       "      <td>0.00</td>\n",
       "      <td>C38997010</td>\n",
       "      <td>21182.0</td>\n",
       "      <td>0.0</td>\n",
       "      <td>1</td>\n",
       "      <td>0</td>\n",
       "    </tr>\n",
       "    <tr>\n",
       "      <th>4</th>\n",
       "      <td>1</td>\n",
       "      <td>PAYMENT</td>\n",
       "      <td>11668.14</td>\n",
       "      <td>C2048537720</td>\n",
       "      <td>41554.0</td>\n",
       "      <td>29885.86</td>\n",
       "      <td>M1230701703</td>\n",
       "      <td>0.0</td>\n",
       "      <td>0.0</td>\n",
       "      <td>0</td>\n",
       "      <td>0</td>\n",
       "    </tr>\n",
       "  </tbody>\n",
       "</table>\n",
       "</div>"
      ],
      "text/plain": [
       "   step      type    amount     nameOrig  oldbalanceOrg  newbalanceOrig  \\\n",
       "0     1   PAYMENT   9839.64  C1231006815       170136.0       160296.36   \n",
       "1     1   PAYMENT   1864.28  C1666544295        21249.0        19384.72   \n",
       "2     1  TRANSFER    181.00  C1305486145          181.0            0.00   \n",
       "3     1  CASH_OUT    181.00   C840083671          181.0            0.00   \n",
       "4     1   PAYMENT  11668.14  C2048537720        41554.0        29885.86   \n",
       "\n",
       "      nameDest  oldbalanceDest  newbalanceDest  isFraud  isFlaggedFraud  \n",
       "0  M1979787155             0.0             0.0        0               0  \n",
       "1  M2044282225             0.0             0.0        0               0  \n",
       "2   C553264065             0.0             0.0        1               0  \n",
       "3    C38997010         21182.0             0.0        1               0  \n",
       "4  M1230701703             0.0             0.0        0               0  "
      ]
     },
     "execution_count": 5,
     "metadata": {},
     "output_type": "execute_result"
    }
   ],
   "source": [
    "df.head()"
   ]
  },
  {
   "cell_type": "markdown",
   "id": "467042e1",
   "metadata": {
    "papermill": {
     "duration": 0.012932,
     "end_time": "2023-03-12T17:50:41.859946",
     "exception": false,
     "start_time": "2023-03-12T17:50:41.847014",
     "status": "completed"
    },
    "tags": []
   },
   "source": [
    "# Explore data"
   ]
  },
  {
   "cell_type": "markdown",
   "id": "d8584a19",
   "metadata": {
    "papermill": {
     "duration": 0.013497,
     "end_time": "2023-03-12T17:50:41.886750",
     "exception": false,
     "start_time": "2023-03-12T17:50:41.873253",
     "status": "completed"
    },
    "tags": []
   },
   "source": [
    "#### What types of transactions are fraudulent?"
   ]
  },
  {
   "cell_type": "code",
   "execution_count": 6,
   "id": "9774edcb",
   "metadata": {
    "execution": {
     "iopub.execute_input": "2023-03-12T17:50:41.915575Z",
     "iopub.status.busy": "2023-03-12T17:50:41.914508Z",
     "iopub.status.idle": "2023-03-12T17:50:41.946026Z",
     "shell.execute_reply": "2023-03-12T17:50:41.944951Z"
    },
    "papermill": {
     "duration": 0.048957,
     "end_time": "2023-03-12T17:50:41.949019",
     "exception": false,
     "start_time": "2023-03-12T17:50:41.900062",
     "status": "completed"
    },
    "tags": []
   },
   "outputs": [
    {
     "name": "stdout",
     "output_type": "stream",
     "text": [
      "The types of transactions is fraudulent are ['TRANSFER' 'CASH_OUT']\n"
     ]
    }
   ],
   "source": [
    "# What types of transactions are fraudulent?\n",
    "\n",
    "fraund_type = df[(df['isFraud']==1) | (df['isFlaggedFraud']==1)]['type'].unique()\n",
    "print(f\"The types of transactions is fraudulent are {fraund_type}\")"
   ]
  },
  {
   "cell_type": "code",
   "execution_count": 7,
   "id": "a031bf0d",
   "metadata": {
    "execution": {
     "iopub.execute_input": "2023-03-12T17:50:41.977448Z",
     "iopub.status.busy": "2023-03-12T17:50:41.977023Z",
     "iopub.status.idle": "2023-03-12T17:50:42.699029Z",
     "shell.execute_reply": "2023-03-12T17:50:42.698120Z"
    },
    "papermill": {
     "duration": 0.739426,
     "end_time": "2023-03-12T17:50:42.701788",
     "exception": false,
     "start_time": "2023-03-12T17:50:41.962362",
     "status": "completed"
    },
    "tags": []
   },
   "outputs": [
    {
     "data": {
      "text/plain": [
       "Text(0.5, 1.0, '% Fraud from TRANSFER and CASH_OUT type')"
      ]
     },
     "execution_count": 7,
     "metadata": {},
     "output_type": "execute_result"
    },
    {
     "data": {
      "image/png": "[encoded data removed]",
      "text/plain": [
       "<Figure size 640x480 with 1 Axes>"
      ]
     },
     "metadata": {},
     "output_type": "display_data"
    }
   ],
   "source": [
    "# % Fraud from TRANSFER and CASH_OUT type\n",
    "\n",
    "df2= df[(df['type'].isin(['TRANSFER','CASH_OUT']))]\n",
    "forpie = df2['isFraud'].value_counts()\n",
    "label = ['No Fraud','Fraud']\n",
    "plt.pie(forpie, labels = label , explode = (0.1, 0), autopct='%1.2f%%')   \n",
    "plt.title('% Fraud from TRANSFER and CASH_OUT type')"
   ]
  },
  {
   "cell_type": "code",
   "execution_count": 8,
   "id": "f9076ddb",
   "metadata": {
    "execution": {
     "iopub.execute_input": "2023-03-12T17:50:42.732419Z",
     "iopub.status.busy": "2023-03-12T17:50:42.731336Z",
     "iopub.status.idle": "2023-03-12T17:50:42.749292Z",
     "shell.execute_reply": "2023-03-12T17:50:42.748420Z"
    },
    "papermill": {
     "duration": 0.035813,
     "end_time": "2023-03-12T17:50:42.751830",
     "exception": false,
     "start_time": "2023-03-12T17:50:42.716017",
     "status": "completed"
    },
    "tags": []
   },
   "outputs": [
    {
     "data": {
      "text/plain": [
       "(2770409, 11)"
      ]
     },
     "execution_count": 8,
     "metadata": {},
     "output_type": "execute_result"
    }
   ],
   "source": [
    "df2.shape"
   ]
  },
  {
   "cell_type": "code",
   "execution_count": 9,
   "id": "e22fc042",
   "metadata": {
    "execution": {
     "iopub.execute_input": "2023-03-12T17:50:42.784636Z",
     "iopub.status.busy": "2023-03-12T17:50:42.783744Z",
     "iopub.status.idle": "2023-03-12T17:50:42.805782Z",
     "shell.execute_reply": "2023-03-12T17:50:42.804443Z"
    },
    "papermill": {
     "duration": 0.041163,
     "end_time": "2023-03-12T17:50:42.808425",
     "exception": false,
     "start_time": "2023-03-12T17:50:42.767262",
     "status": "completed"
    },
    "tags": []
   },
   "outputs": [
    {
     "data": {
      "text/html": [
       "<div>\n",
       "<style scoped>\n",
       "    .dataframe tbody tr th:only-of-type {\n",
       "        vertical-align: middle;\n",
       "    }\n",
       "\n",
       "    .dataframe tbody tr th {\n",
       "        vertical-align: top;\n",
       "    }\n",
       "\n",
       "    .dataframe thead th {\n",
       "        text-align: right;\n",
       "    }\n",
       "</style>\n",
       "<table border=\"1\" class=\"dataframe\">\n",
       "  <thead>\n",
       "    <tr style=\"text-align: right;\">\n",
       "      <th></th>\n",
       "      <th>step</th>\n",
       "      <th>type</th>\n",
       "      <th>amount</th>\n",
       "      <th>nameOrig</th>\n",
       "      <th>oldbalanceOrg</th>\n",
       "      <th>newbalanceOrig</th>\n",
       "      <th>nameDest</th>\n",
       "      <th>oldbalanceDest</th>\n",
       "      <th>newbalanceDest</th>\n",
       "      <th>isFraud</th>\n",
       "      <th>isFlaggedFraud</th>\n",
       "    </tr>\n",
       "  </thead>\n",
       "  <tbody>\n",
       "    <tr>\n",
       "      <th>2</th>\n",
       "      <td>1</td>\n",
       "      <td>TRANSFER</td>\n",
       "      <td>181.00</td>\n",
       "      <td>C1305486145</td>\n",
       "      <td>181.00</td>\n",
       "      <td>0.0</td>\n",
       "      <td>C553264065</td>\n",
       "      <td>0.0</td>\n",
       "      <td>0.00</td>\n",
       "      <td>1</td>\n",
       "      <td>0</td>\n",
       "    </tr>\n",
       "    <tr>\n",
       "      <th>3</th>\n",
       "      <td>1</td>\n",
       "      <td>CASH_OUT</td>\n",
       "      <td>181.00</td>\n",
       "      <td>C840083671</td>\n",
       "      <td>181.00</td>\n",
       "      <td>0.0</td>\n",
       "      <td>C38997010</td>\n",
       "      <td>21182.0</td>\n",
       "      <td>0.00</td>\n",
       "      <td>1</td>\n",
       "      <td>0</td>\n",
       "    </tr>\n",
       "    <tr>\n",
       "      <th>15</th>\n",
       "      <td>1</td>\n",
       "      <td>CASH_OUT</td>\n",
       "      <td>229133.94</td>\n",
       "      <td>C905080434</td>\n",
       "      <td>15325.00</td>\n",
       "      <td>0.0</td>\n",
       "      <td>C476402209</td>\n",
       "      <td>5083.0</td>\n",
       "      <td>51513.44</td>\n",
       "      <td>0</td>\n",
       "      <td>0</td>\n",
       "    </tr>\n",
       "    <tr>\n",
       "      <th>19</th>\n",
       "      <td>1</td>\n",
       "      <td>TRANSFER</td>\n",
       "      <td>215310.30</td>\n",
       "      <td>C1670993182</td>\n",
       "      <td>705.00</td>\n",
       "      <td>0.0</td>\n",
       "      <td>C1100439041</td>\n",
       "      <td>22425.0</td>\n",
       "      <td>0.00</td>\n",
       "      <td>0</td>\n",
       "      <td>0</td>\n",
       "    </tr>\n",
       "    <tr>\n",
       "      <th>24</th>\n",
       "      <td>1</td>\n",
       "      <td>TRANSFER</td>\n",
       "      <td>311685.89</td>\n",
       "      <td>C1984094095</td>\n",
       "      <td>10835.00</td>\n",
       "      <td>0.0</td>\n",
       "      <td>C932583850</td>\n",
       "      <td>6267.0</td>\n",
       "      <td>2719172.89</td>\n",
       "      <td>0</td>\n",
       "      <td>0</td>\n",
       "    </tr>\n",
       "    <tr>\n",
       "      <th>42</th>\n",
       "      <td>1</td>\n",
       "      <td>CASH_OUT</td>\n",
       "      <td>110414.71</td>\n",
       "      <td>C768216420</td>\n",
       "      <td>26845.41</td>\n",
       "      <td>0.0</td>\n",
       "      <td>C1509514333</td>\n",
       "      <td>288800.0</td>\n",
       "      <td>2415.16</td>\n",
       "      <td>0</td>\n",
       "      <td>0</td>\n",
       "    </tr>\n",
       "    <tr>\n",
       "      <th>47</th>\n",
       "      <td>1</td>\n",
       "      <td>CASH_OUT</td>\n",
       "      <td>56953.90</td>\n",
       "      <td>C1570470538</td>\n",
       "      <td>1942.02</td>\n",
       "      <td>0.0</td>\n",
       "      <td>C824009085</td>\n",
       "      <td>70253.0</td>\n",
       "      <td>64106.18</td>\n",
       "      <td>0</td>\n",
       "      <td>0</td>\n",
       "    </tr>\n",
       "    <tr>\n",
       "      <th>48</th>\n",
       "      <td>1</td>\n",
       "      <td>CASH_OUT</td>\n",
       "      <td>5346.89</td>\n",
       "      <td>C512549200</td>\n",
       "      <td>0.00</td>\n",
       "      <td>0.0</td>\n",
       "      <td>C248609774</td>\n",
       "      <td>652637.0</td>\n",
       "      <td>6453430.91</td>\n",
       "      <td>0</td>\n",
       "      <td>0</td>\n",
       "    </tr>\n",
       "    <tr>\n",
       "      <th>51</th>\n",
       "      <td>1</td>\n",
       "      <td>CASH_OUT</td>\n",
       "      <td>23261.30</td>\n",
       "      <td>C2072313080</td>\n",
       "      <td>20411.53</td>\n",
       "      <td>0.0</td>\n",
       "      <td>C2001112025</td>\n",
       "      <td>25742.0</td>\n",
       "      <td>0.00</td>\n",
       "      <td>0</td>\n",
       "      <td>0</td>\n",
       "    </tr>\n",
       "    <tr>\n",
       "      <th>58</th>\n",
       "      <td>1</td>\n",
       "      <td>TRANSFER</td>\n",
       "      <td>62610.80</td>\n",
       "      <td>C1976401987</td>\n",
       "      <td>79114.00</td>\n",
       "      <td>16503.2</td>\n",
       "      <td>C1937962514</td>\n",
       "      <td>517.0</td>\n",
       "      <td>8383.29</td>\n",
       "      <td>0</td>\n",
       "      <td>0</td>\n",
       "    </tr>\n",
       "  </tbody>\n",
       "</table>\n",
       "</div>"
      ],
      "text/plain": [
       "    step      type     amount     nameOrig  oldbalanceOrg  newbalanceOrig  \\\n",
       "2      1  TRANSFER     181.00  C1305486145         181.00             0.0   \n",
       "3      1  CASH_OUT     181.00   C840083671         181.00             0.0   \n",
       "15     1  CASH_OUT  229133.94   C905080434       15325.00             0.0   \n",
       "19     1  TRANSFER  215310.30  C1670993182         705.00             0.0   \n",
       "24     1  TRANSFER  311685.89  C1984094095       10835.00             0.0   \n",
       "42     1  CASH_OUT  110414.71   C768216420       26845.41             0.0   \n",
       "47     1  CASH_OUT   56953.90  C1570470538        1942.02             0.0   \n",
       "48     1  CASH_OUT    5346.89   C512549200           0.00             0.0   \n",
       "51     1  CASH_OUT   23261.30  C2072313080       20411.53             0.0   \n",
       "58     1  TRANSFER   62610.80  C1976401987       79114.00         16503.2   \n",
       "\n",
       "       nameDest  oldbalanceDest  newbalanceDest  isFraud  isFlaggedFraud  \n",
       "2    C553264065             0.0            0.00        1               0  \n",
       "3     C38997010         21182.0            0.00        1               0  \n",
       "15   C476402209          5083.0        51513.44        0               0  \n",
       "19  C1100439041         22425.0            0.00        0               0  \n",
       "24   C932583850          6267.0      2719172.89        0               0  \n",
       "42  C1509514333        288800.0         2415.16        0               0  \n",
       "47   C824009085         70253.0        64106.18        0               0  \n",
       "48   C248609774        652637.0      6453430.91        0               0  \n",
       "51  C2001112025         25742.0            0.00        0               0  \n",
       "58  C1937962514           517.0         8383.29        0               0  "
      ]
     },
     "execution_count": 9,
     "metadata": {},
     "output_type": "execute_result"
    }
   ],
   "source": [
    "df2.head(10)"
   ]
  },
  {
   "cell_type": "markdown",
   "id": "429873df",
   "metadata": {
    "papermill": {
     "duration": 0.015107,
     "end_time": "2023-03-12T17:50:42.838338",
     "exception": false,
     "start_time": "2023-03-12T17:50:42.823231",
     "status": "completed"
    },
    "tags": []
   },
   "source": [
    "#### Check correlation"
   ]
  },
  {
   "cell_type": "code",
   "execution_count": 10,
   "id": "ad09673e",
   "metadata": {
    "execution": {
     "iopub.execute_input": "2023-03-12T17:50:42.874470Z",
     "iopub.status.busy": "2023-03-12T17:50:42.873613Z",
     "iopub.status.idle": "2023-03-12T17:50:43.841559Z",
     "shell.execute_reply": "2023-03-12T17:50:43.840289Z"
    },
    "papermill": {
     "duration": 0.993913,
     "end_time": "2023-03-12T17:50:43.846846",
     "exception": false,
     "start_time": "2023-03-12T17:50:42.852933",
     "status": "completed"
    },
    "tags": []
   },
   "outputs": [
    {
     "name": "stdout",
     "output_type": "stream",
     "text": [
      "<class 'pandas.core.frame.DataFrame'>\n",
      "Int64Index: 2770409 entries, 2 to 6362619\n",
      "Data columns (total 11 columns):\n",
      " #   Column          Dtype  \n",
      "---  ------          -----  \n",
      " 0   step            int64  \n",
      " 1   type            int64  \n",
      " 2   amount          float64\n",
      " 3   nameOrig        object \n",
      " 4   oldbalanceOrg   float64\n",
      " 5   newbalanceOrig  float64\n",
      " 6   nameDest        object \n",
      " 7   oldbalanceDest  float64\n",
      " 8   newbalanceDest  float64\n",
      " 9   isFraud         int64  \n",
      " 10  isFlaggedFraud  int64  \n",
      "dtypes: float64(5), int64(4), object(2)\n",
      "memory usage: 253.6+ MB\n"
     ]
    },
    {
     "name": "stderr",
     "output_type": "stream",
     "text": [
      "/opt/conda/lib/python3.7/site-packages/ipykernel_launcher.py:2: SettingWithCopyWarning: \n",
      "A value is trying to be set on a copy of a slice from a DataFrame.\n",
      "Try using .loc[row_indexer,col_indexer] = value instead\n",
      "\n",
      "See the caveats in the documentation: https://pandas.pydata.org/pandas-docs/stable/user_guide/indexing.html#returning-a-view-versus-a-copy\n",
      "  \n"
     ]
    }
   ],
   "source": [
    "# Convert 'type' column to integer\n",
    "df2['type'] = df2['type'].replace(\"TRANSFER\",0).replace(\"CASH_OUT\",1)\n",
    "df2.info()"
   ]
  },
  {
   "cell_type": "code",
   "execution_count": 11,
   "id": "51e2154b",
   "metadata": {
    "execution": {
     "iopub.execute_input": "2023-03-12T17:50:43.879683Z",
     "iopub.status.busy": "2023-03-12T17:50:43.878942Z",
     "iopub.status.idle": "2023-03-12T17:50:45.518135Z",
     "shell.execute_reply": "2023-03-12T17:50:45.517259Z"
    },
    "papermill": {
     "duration": 1.658103,
     "end_time": "2023-03-12T17:50:45.521016",
     "exception": false,
     "start_time": "2023-03-12T17:50:43.862913",
     "status": "completed"
    },
    "tags": []
   },
   "outputs": [
    {
     "data": {
      "text/plain": [
       "<AxesSubplot:>"
      ]
     },
     "execution_count": 11,
     "metadata": {},
     "output_type": "execute_result"
    },
    {
     "data": {
      "image/png": "[encoded data removed]",
      "text/plain": [
       "<Figure size 1000x500 with 2 Axes>"
      ]
     },
     "metadata": {},
     "output_type": "display_data"
    }
   ],
   "source": [
    "# Correlation\n",
    "plt.figure(figsize=(10,5))\n",
    "sns.heatmap(df2.corr(),annot=True,cmap='hot')"
   ]
  },
  {
   "cell_type": "markdown",
   "id": "057839bb",
   "metadata": {
    "papermill": {
     "duration": 0.016412,
     "end_time": "2023-03-12T17:50:45.553966",
     "exception": false,
     "start_time": "2023-03-12T17:50:45.537554",
     "status": "completed"
    },
    "tags": []
   },
   "source": [
    "Many feature are less correlation with `isFraud` target."
   ]
  },
  {
   "cell_type": "code",
   "execution_count": 12,
   "id": "654d1832",
   "metadata": {
    "execution": {
     "iopub.execute_input": "2023-03-12T17:50:45.589484Z",
     "iopub.status.busy": "2023-03-12T17:50:45.588644Z",
     "iopub.status.idle": "2023-03-12T17:50:45.689327Z",
     "shell.execute_reply": "2023-03-12T17:50:45.688088Z"
    },
    "papermill": {
     "duration": 0.121492,
     "end_time": "2023-03-12T17:50:45.692019",
     "exception": false,
     "start_time": "2023-03-12T17:50:45.570527",
     "status": "completed"
    },
    "tags": []
   },
   "outputs": [
    {
     "data": {
      "text/html": [
       "<div>\n",
       "<style scoped>\n",
       "    .dataframe tbody tr th:only-of-type {\n",
       "        vertical-align: middle;\n",
       "    }\n",
       "\n",
       "    .dataframe tbody tr th {\n",
       "        vertical-align: top;\n",
       "    }\n",
       "\n",
       "    .dataframe thead th {\n",
       "        text-align: right;\n",
       "    }\n",
       "</style>\n",
       "<table border=\"1\" class=\"dataframe\">\n",
       "  <thead>\n",
       "    <tr style=\"text-align: right;\">\n",
       "      <th></th>\n",
       "      <th>step</th>\n",
       "      <th>type</th>\n",
       "      <th>amount</th>\n",
       "      <th>nameOrig</th>\n",
       "      <th>oldbalanceOrg</th>\n",
       "      <th>newbalanceOrig</th>\n",
       "      <th>nameDest</th>\n",
       "      <th>oldbalanceDest</th>\n",
       "      <th>newbalanceDest</th>\n",
       "      <th>isFraud</th>\n",
       "      <th>isFlaggedFraud</th>\n",
       "    </tr>\n",
       "  </thead>\n",
       "  <tbody>\n",
       "    <tr>\n",
       "      <th>2</th>\n",
       "      <td>1</td>\n",
       "      <td>0</td>\n",
       "      <td>181.00</td>\n",
       "      <td>C1305486145</td>\n",
       "      <td>181.00</td>\n",
       "      <td>0.0</td>\n",
       "      <td>C553264065</td>\n",
       "      <td>0.00</td>\n",
       "      <td>0.00</td>\n",
       "      <td>1</td>\n",
       "      <td>0</td>\n",
       "    </tr>\n",
       "    <tr>\n",
       "      <th>3</th>\n",
       "      <td>1</td>\n",
       "      <td>1</td>\n",
       "      <td>181.00</td>\n",
       "      <td>C840083671</td>\n",
       "      <td>181.00</td>\n",
       "      <td>0.0</td>\n",
       "      <td>C38997010</td>\n",
       "      <td>21182.00</td>\n",
       "      <td>0.00</td>\n",
       "      <td>1</td>\n",
       "      <td>0</td>\n",
       "    </tr>\n",
       "    <tr>\n",
       "      <th>251</th>\n",
       "      <td>1</td>\n",
       "      <td>0</td>\n",
       "      <td>2806.00</td>\n",
       "      <td>C1420196421</td>\n",
       "      <td>2806.00</td>\n",
       "      <td>0.0</td>\n",
       "      <td>C972765878</td>\n",
       "      <td>0.00</td>\n",
       "      <td>0.00</td>\n",
       "      <td>1</td>\n",
       "      <td>0</td>\n",
       "    </tr>\n",
       "    <tr>\n",
       "      <th>252</th>\n",
       "      <td>1</td>\n",
       "      <td>1</td>\n",
       "      <td>2806.00</td>\n",
       "      <td>C2101527076</td>\n",
       "      <td>2806.00</td>\n",
       "      <td>0.0</td>\n",
       "      <td>C1007251739</td>\n",
       "      <td>26202.00</td>\n",
       "      <td>0.00</td>\n",
       "      <td>1</td>\n",
       "      <td>0</td>\n",
       "    </tr>\n",
       "    <tr>\n",
       "      <th>680</th>\n",
       "      <td>1</td>\n",
       "      <td>0</td>\n",
       "      <td>20128.00</td>\n",
       "      <td>C137533655</td>\n",
       "      <td>20128.00</td>\n",
       "      <td>0.0</td>\n",
       "      <td>C1848415041</td>\n",
       "      <td>0.00</td>\n",
       "      <td>0.00</td>\n",
       "      <td>1</td>\n",
       "      <td>0</td>\n",
       "    </tr>\n",
       "    <tr>\n",
       "      <th>...</th>\n",
       "      <td>...</td>\n",
       "      <td>...</td>\n",
       "      <td>...</td>\n",
       "      <td>...</td>\n",
       "      <td>...</td>\n",
       "      <td>...</td>\n",
       "      <td>...</td>\n",
       "      <td>...</td>\n",
       "      <td>...</td>\n",
       "      <td>...</td>\n",
       "      <td>...</td>\n",
       "    </tr>\n",
       "    <tr>\n",
       "      <th>6362615</th>\n",
       "      <td>743</td>\n",
       "      <td>1</td>\n",
       "      <td>339682.13</td>\n",
       "      <td>C786484425</td>\n",
       "      <td>339682.13</td>\n",
       "      <td>0.0</td>\n",
       "      <td>C776919290</td>\n",
       "      <td>0.00</td>\n",
       "      <td>339682.13</td>\n",
       "      <td>1</td>\n",
       "      <td>0</td>\n",
       "    </tr>\n",
       "    <tr>\n",
       "      <th>6362616</th>\n",
       "      <td>743</td>\n",
       "      <td>0</td>\n",
       "      <td>6311409.28</td>\n",
       "      <td>C1529008245</td>\n",
       "      <td>6311409.28</td>\n",
       "      <td>0.0</td>\n",
       "      <td>C1881841831</td>\n",
       "      <td>0.00</td>\n",
       "      <td>0.00</td>\n",
       "      <td>1</td>\n",
       "      <td>0</td>\n",
       "    </tr>\n",
       "    <tr>\n",
       "      <th>6362617</th>\n",
       "      <td>743</td>\n",
       "      <td>1</td>\n",
       "      <td>6311409.28</td>\n",
       "      <td>C1162922333</td>\n",
       "      <td>6311409.28</td>\n",
       "      <td>0.0</td>\n",
       "      <td>C1365125890</td>\n",
       "      <td>68488.84</td>\n",
       "      <td>6379898.11</td>\n",
       "      <td>1</td>\n",
       "      <td>0</td>\n",
       "    </tr>\n",
       "    <tr>\n",
       "      <th>6362618</th>\n",
       "      <td>743</td>\n",
       "      <td>0</td>\n",
       "      <td>850002.52</td>\n",
       "      <td>C1685995037</td>\n",
       "      <td>850002.52</td>\n",
       "      <td>0.0</td>\n",
       "      <td>C2080388513</td>\n",
       "      <td>0.00</td>\n",
       "      <td>0.00</td>\n",
       "      <td>1</td>\n",
       "      <td>0</td>\n",
       "    </tr>\n",
       "    <tr>\n",
       "      <th>6362619</th>\n",
       "      <td>743</td>\n",
       "      <td>1</td>\n",
       "      <td>850002.52</td>\n",
       "      <td>C1280323807</td>\n",
       "      <td>850002.52</td>\n",
       "      <td>0.0</td>\n",
       "      <td>C873221189</td>\n",
       "      <td>6510099.11</td>\n",
       "      <td>7360101.63</td>\n",
       "      <td>1</td>\n",
       "      <td>0</td>\n",
       "    </tr>\n",
       "  </tbody>\n",
       "</table>\n",
       "<p>8213 rows × 11 columns</p>\n",
       "</div>"
      ],
      "text/plain": [
       "         step  type      amount     nameOrig  oldbalanceOrg  newbalanceOrig  \\\n",
       "2           1     0      181.00  C1305486145         181.00             0.0   \n",
       "3           1     1      181.00   C840083671         181.00             0.0   \n",
       "251         1     0     2806.00  C1420196421        2806.00             0.0   \n",
       "252         1     1     2806.00  C2101527076        2806.00             0.0   \n",
       "680         1     0    20128.00   C137533655       20128.00             0.0   \n",
       "...       ...   ...         ...          ...            ...             ...   \n",
       "6362615   743     1   339682.13   C786484425      339682.13             0.0   \n",
       "6362616   743     0  6311409.28  C1529008245     6311409.28             0.0   \n",
       "6362617   743     1  6311409.28  C1162922333     6311409.28             0.0   \n",
       "6362618   743     0   850002.52  C1685995037      850002.52             0.0   \n",
       "6362619   743     1   850002.52  C1280323807      850002.52             0.0   \n",
       "\n",
       "            nameDest  oldbalanceDest  newbalanceDest  isFraud  isFlaggedFraud  \n",
       "2         C553264065            0.00            0.00        1               0  \n",
       "3          C38997010        21182.00            0.00        1               0  \n",
       "251       C972765878            0.00            0.00        1               0  \n",
       "252      C1007251739        26202.00            0.00        1               0  \n",
       "680      C1848415041            0.00            0.00        1               0  \n",
       "...              ...             ...             ...      ...             ...  \n",
       "6362615   C776919290            0.00       339682.13        1               0  \n",
       "6362616  C1881841831            0.00            0.00        1               0  \n",
       "6362617  C1365125890        68488.84      6379898.11        1               0  \n",
       "6362618  C2080388513            0.00            0.00        1               0  \n",
       "6362619   C873221189      6510099.11      7360101.63        1               0  \n",
       "\n",
       "[8213 rows x 11 columns]"
      ]
     },
     "execution_count": 12,
     "metadata": {},
     "output_type": "execute_result"
    }
   ],
   "source": [
    "# Looking in data of Frauded\n",
    "df2[df2['isFraud']==1]"
   ]
  },
  {
   "cell_type": "markdown",
   "id": "005edd96",
   "metadata": {
    "papermill": {
     "duration": 0.017021,
     "end_time": "2023-03-12T17:50:45.726304",
     "exception": false,
     "start_time": "2023-03-12T17:50:45.709283",
     "status": "completed"
    },
    "tags": []
   },
   "source": [
    "#### Are `isFlaggedFraud` relate to our `isFraud`?"
   ]
  },
  {
   "cell_type": "code",
   "execution_count": 13,
   "id": "4591dacd",
   "metadata": {
    "execution": {
     "iopub.execute_input": "2023-03-12T17:50:45.762373Z",
     "iopub.status.busy": "2023-03-12T17:50:45.761412Z",
     "iopub.status.idle": "2023-03-12T17:50:45.784899Z",
     "shell.execute_reply": "2023-03-12T17:50:45.783986Z"
    },
    "papermill": {
     "duration": 0.044284,
     "end_time": "2023-03-12T17:50:45.787349",
     "exception": false,
     "start_time": "2023-03-12T17:50:45.743065",
     "status": "completed"
    },
    "tags": []
   },
   "outputs": [
    {
     "data": {
      "text/html": [
       "<div>\n",
       "<style scoped>\n",
       "    .dataframe tbody tr th:only-of-type {\n",
       "        vertical-align: middle;\n",
       "    }\n",
       "\n",
       "    .dataframe tbody tr th {\n",
       "        vertical-align: top;\n",
       "    }\n",
       "\n",
       "    .dataframe thead th {\n",
       "        text-align: right;\n",
       "    }\n",
       "</style>\n",
       "<table border=\"1\" class=\"dataframe\">\n",
       "  <thead>\n",
       "    <tr style=\"text-align: right;\">\n",
       "      <th></th>\n",
       "      <th>step</th>\n",
       "      <th>type</th>\n",
       "      <th>amount</th>\n",
       "      <th>nameOrig</th>\n",
       "      <th>oldbalanceOrg</th>\n",
       "      <th>newbalanceOrig</th>\n",
       "      <th>nameDest</th>\n",
       "      <th>oldbalanceDest</th>\n",
       "      <th>newbalanceDest</th>\n",
       "      <th>isFraud</th>\n",
       "      <th>isFlaggedFraud</th>\n",
       "    </tr>\n",
       "  </thead>\n",
       "  <tbody>\n",
       "  </tbody>\n",
       "</table>\n",
       "</div>"
      ],
      "text/plain": [
       "Empty DataFrame\n",
       "Columns: [step, type, amount, nameOrig, oldbalanceOrg, newbalanceOrig, nameDest, oldbalanceDest, newbalanceDest, isFraud, isFlaggedFraud]\n",
       "Index: []"
      ]
     },
     "execution_count": 13,
     "metadata": {},
     "output_type": "execute_result"
    }
   ],
   "source": [
    "# Are `isFlaggedFraud` is flag but `isFraud` not flag\n",
    "\n",
    "df2[(df2['isFraud']==0) & (df2['isFlaggedFraud']==1)]"
   ]
  },
  {
   "cell_type": "markdown",
   "id": "c329ecc0",
   "metadata": {
    "papermill": {
     "duration": 0.016329,
     "end_time": "2023-03-12T17:50:45.820777",
     "exception": false,
     "start_time": "2023-03-12T17:50:45.804448",
     "status": "completed"
    },
    "tags": []
   },
   "source": [
    "We have no data on `isFlaggedFraud` is flag but `isFraud` not flag.\n",
    "So it mean if `isFlaggedFraud` is flag, it alway `isFraud` is flag too.\n",
    "**I decided that `isFlaggedFraud` is not taken into account.**"
   ]
  },
  {
   "cell_type": "markdown",
   "id": "4cb2bd4e",
   "metadata": {
    "papermill": {
     "duration": 0.016502,
     "end_time": "2023-03-12T17:50:45.853983",
     "exception": false,
     "start_time": "2023-03-12T17:50:45.837481",
     "status": "completed"
    },
    "tags": []
   },
   "source": [
    "#### In most cases, at what `step` are they frauded?"
   ]
  },
  {
   "cell_type": "code",
   "execution_count": 14,
   "id": "fa3f3dd0",
   "metadata": {
    "execution": {
     "iopub.execute_input": "2023-03-12T17:50:45.890303Z",
     "iopub.status.busy": "2023-03-12T17:50:45.888879Z",
     "iopub.status.idle": "2023-03-12T17:50:46.220273Z",
     "shell.execute_reply": "2023-03-12T17:50:46.219168Z"
    },
    "papermill": {
     "duration": 0.353019,
     "end_time": "2023-03-12T17:50:46.223521",
     "exception": false,
     "start_time": "2023-03-12T17:50:45.870502",
     "status": "completed"
    },
    "tags": []
   },
   "outputs": [
    {
     "data": {
      "image/png": "[encoded data removed]",
      "text/plain": [
       "<Figure size 1000x600 with 1 Axes>"
      ]
     },
     "metadata": {},
     "output_type": "display_data"
    }
   ],
   "source": [
    "# Data of Fraud by step\n",
    "data1 = df2[df2['isFraud']==1].groupby('step')['isFraud'].agg(['sum'])\\\n",
    "    .sort_values(by='sum', ascending=False).head(10)\n",
    "\n",
    "ax = data1.plot.bar(figsize=(10, 6), rot=0)\n",
    "ax.set_xlabel('Step')\n",
    "ax.set_ylabel('Number of Fraud Occurrences')\n",
    "ax.set_title('Top 10 Steps with Most Fraud Occurrences')\n",
    "plt.show()"
   ]
  },
  {
   "cell_type": "markdown",
   "id": "3f3ee0de",
   "metadata": {
    "papermill": {
     "duration": 0.016934,
     "end_time": "2023-03-12T17:50:46.257867",
     "exception": false,
     "start_time": "2023-03-12T17:50:46.240933",
     "status": "completed"
    },
    "tags": []
   },
   "source": [
    "In most cases, step 212 (estimate Day 9) are they frauded"
   ]
  },
  {
   "cell_type": "markdown",
   "id": "74a18bdd",
   "metadata": {
    "papermill": {
     "duration": 0.016958,
     "end_time": "2023-03-12T17:50:46.292325",
     "exception": false,
     "start_time": "2023-03-12T17:50:46.275367",
     "status": "completed"
    },
    "tags": []
   },
   "source": [
    "#### Person who has been deceived will it be deceived again?"
   ]
  },
  {
   "cell_type": "code",
   "execution_count": 15,
   "id": "2ede95e3",
   "metadata": {
    "execution": {
     "iopub.execute_input": "2023-03-12T17:50:46.329354Z",
     "iopub.status.busy": "2023-03-12T17:50:46.328264Z",
     "iopub.status.idle": "2023-03-12T17:50:46.356305Z",
     "shell.execute_reply": "2023-03-12T17:50:46.355138Z"
    },
    "papermill": {
     "duration": 0.049332,
     "end_time": "2023-03-12T17:50:46.358867",
     "exception": false,
     "start_time": "2023-03-12T17:50:46.309535",
     "status": "completed"
    },
    "tags": []
   },
   "outputs": [
    {
     "data": {
      "text/html": [
       "<div>\n",
       "<style scoped>\n",
       "    .dataframe tbody tr th:only-of-type {\n",
       "        vertical-align: middle;\n",
       "    }\n",
       "\n",
       "    .dataframe tbody tr th {\n",
       "        vertical-align: top;\n",
       "    }\n",
       "\n",
       "    .dataframe thead th {\n",
       "        text-align: right;\n",
       "    }\n",
       "</style>\n",
       "<table border=\"1\" class=\"dataframe\">\n",
       "  <thead>\n",
       "    <tr style=\"text-align: right;\">\n",
       "      <th></th>\n",
       "      <th>sum</th>\n",
       "    </tr>\n",
       "    <tr>\n",
       "      <th>nameOrig</th>\n",
       "      <th></th>\n",
       "    </tr>\n",
       "  </thead>\n",
       "  <tbody>\n",
       "    <tr>\n",
       "      <th>C1000036340</th>\n",
       "      <td>1</td>\n",
       "    </tr>\n",
       "    <tr>\n",
       "      <th>C334503836</th>\n",
       "      <td>1</td>\n",
       "    </tr>\n",
       "    <tr>\n",
       "      <th>C357089378</th>\n",
       "      <td>1</td>\n",
       "    </tr>\n",
       "    <tr>\n",
       "      <th>C356905617</th>\n",
       "      <td>1</td>\n",
       "    </tr>\n",
       "    <tr>\n",
       "      <th>C356781229</th>\n",
       "      <td>1</td>\n",
       "    </tr>\n",
       "    <tr>\n",
       "      <th>C356706674</th>\n",
       "      <td>1</td>\n",
       "    </tr>\n",
       "    <tr>\n",
       "      <th>C356571967</th>\n",
       "      <td>1</td>\n",
       "    </tr>\n",
       "    <tr>\n",
       "      <th>C356480504</th>\n",
       "      <td>1</td>\n",
       "    </tr>\n",
       "    <tr>\n",
       "      <th>C356205172</th>\n",
       "      <td>1</td>\n",
       "    </tr>\n",
       "    <tr>\n",
       "      <th>C356177155</th>\n",
       "      <td>1</td>\n",
       "    </tr>\n",
       "  </tbody>\n",
       "</table>\n",
       "</div>"
      ],
      "text/plain": [
       "             sum\n",
       "nameOrig        \n",
       "C1000036340    1\n",
       "C334503836     1\n",
       "C357089378     1\n",
       "C356905617     1\n",
       "C356781229     1\n",
       "C356706674     1\n",
       "C356571967     1\n",
       "C356480504     1\n",
       "C356205172     1\n",
       "C356177155     1"
      ]
     },
     "execution_count": 15,
     "metadata": {},
     "output_type": "execute_result"
    }
   ],
   "source": [
    "df2[df2['isFraud']==1].groupby('nameOrig')['isFraud'].agg(['sum'])\\\n",
    "    .sort_values(by='sum', ascending=False).head(10)"
   ]
  },
  {
   "cell_type": "markdown",
   "id": "7dbeb3dc",
   "metadata": {
    "papermill": {
     "duration": 0.017445,
     "end_time": "2023-03-12T17:50:46.394255",
     "exception": false,
     "start_time": "2023-03-12T17:50:46.376810",
     "status": "completed"
    },
    "tags": []
   },
   "source": [
    "No,  it not be deceived again"
   ]
  },
  {
   "cell_type": "markdown",
   "id": "ebf5976c",
   "metadata": {
    "papermill": {
     "duration": 0.018429,
     "end_time": "2023-03-12T17:50:46.430457",
     "exception": false,
     "start_time": "2023-03-12T17:50:46.412028",
     "status": "completed"
    },
    "tags": []
   },
   "source": [
    "#### Are remain balance after frauded?"
   ]
  },
  {
   "cell_type": "code",
   "execution_count": 16,
   "id": "a785bd05",
   "metadata": {
    "execution": {
     "iopub.execute_input": "2023-03-12T17:50:46.468204Z",
     "iopub.status.busy": "2023-03-12T17:50:46.467201Z",
     "iopub.status.idle": "2023-03-12T17:50:46.659324Z",
     "shell.execute_reply": "2023-03-12T17:50:46.658155Z"
    },
    "papermill": {
     "duration": 0.213858,
     "end_time": "2023-03-12T17:50:46.662026",
     "exception": false,
     "start_time": "2023-03-12T17:50:46.448168",
     "status": "completed"
    },
    "tags": []
   },
   "outputs": [
    {
     "data": {
      "image/png": "[encoded data removed]",
      "text/plain": [
       "<Figure size 640x480 with 1 Axes>"
      ]
     },
     "metadata": {},
     "output_type": "display_data"
    }
   ],
   "source": [
    "# Boxplote\n",
    "\n",
    "Orig_after_fraud = df2[df2['isFraud']==1]['newbalanceOrig']\n",
    "plt.boxplot(Orig_after_fraud)\n",
    "plt.ylabel('Remain balance (Million)')\n",
    "plt.title('Boxplot of Remain balance after frauded')\n",
    "plt.show()"
   ]
  },
  {
   "cell_type": "code",
   "execution_count": 17,
   "id": "66573856",
   "metadata": {
    "execution": {
     "iopub.execute_input": "2023-03-12T17:50:46.700496Z",
     "iopub.status.busy": "2023-03-12T17:50:46.699551Z",
     "iopub.status.idle": "2023-03-12T17:50:46.712450Z",
     "shell.execute_reply": "2023-03-12T17:50:46.711168Z"
    },
    "papermill": {
     "duration": 0.034665,
     "end_time": "2023-03-12T17:50:46.714753",
     "exception": false,
     "start_time": "2023-03-12T17:50:46.680088",
     "status": "completed"
    },
    "tags": []
   },
   "outputs": [
    {
     "name": "stdout",
     "output_type": "stream",
     "text": [
      "The median of remain balance after frauded is 0.0\n"
     ]
    }
   ],
   "source": [
    "# Median of remain balance after frauded\n",
    "remain_balance = df2[df2['isFraud']==1]['newbalanceOrig'].median()\n",
    "print(f\"The median of remain balance after frauded is {remain_balance}\")"
   ]
  },
  {
   "cell_type": "markdown",
   "id": "58b37ced",
   "metadata": {
    "papermill": {
     "duration": 0.017865,
     "end_time": "2023-03-12T17:50:46.750832",
     "exception": false,
     "start_time": "2023-03-12T17:50:46.732967",
     "status": "completed"
    },
    "tags": []
   },
   "source": [
    "Most of the time, victims leave no money in their accounts after being scammed."
   ]
  },
  {
   "cell_type": "markdown",
   "id": "b7820863",
   "metadata": {
    "papermill": {
     "duration": 0.017949,
     "end_time": "2023-03-12T17:50:46.787444",
     "exception": false,
     "start_time": "2023-03-12T17:50:46.769495",
     "status": "completed"
    },
    "tags": []
   },
   "source": [
    "#### What is the amount of most scammed money?"
   ]
  },
  {
   "cell_type": "code",
   "execution_count": 18,
   "id": "fcb4e1bd",
   "metadata": {
    "execution": {
     "iopub.execute_input": "2023-03-12T17:50:46.825952Z",
     "iopub.status.busy": "2023-03-12T17:50:46.825196Z",
     "iopub.status.idle": "2023-03-12T17:50:46.854447Z",
     "shell.execute_reply": "2023-03-12T17:50:46.852984Z"
    },
    "papermill": {
     "duration": 0.051523,
     "end_time": "2023-03-12T17:50:46.857068",
     "exception": false,
     "start_time": "2023-03-12T17:50:46.805545",
     "status": "completed"
    },
    "tags": []
   },
   "outputs": [
    {
     "data": {
      "text/html": [
       "<div>\n",
       "<style scoped>\n",
       "    .dataframe tbody tr th:only-of-type {\n",
       "        vertical-align: middle;\n",
       "    }\n",
       "\n",
       "    .dataframe tbody tr th {\n",
       "        vertical-align: top;\n",
       "    }\n",
       "\n",
       "    .dataframe thead th {\n",
       "        text-align: right;\n",
       "    }\n",
       "</style>\n",
       "<table border=\"1\" class=\"dataframe\">\n",
       "  <thead>\n",
       "    <tr style=\"text-align: right;\">\n",
       "      <th></th>\n",
       "      <th>min</th>\n",
       "      <th>max</th>\n",
       "      <th>count</th>\n",
       "      <th>median</th>\n",
       "    </tr>\n",
       "    <tr>\n",
       "      <th>type</th>\n",
       "      <th></th>\n",
       "      <th></th>\n",
       "      <th></th>\n",
       "      <th></th>\n",
       "    </tr>\n",
       "  </thead>\n",
       "  <tbody>\n",
       "    <tr>\n",
       "      <th>CASH_OUT</th>\n",
       "      <td>0.0</td>\n",
       "      <td>10000000.0</td>\n",
       "      <td>4116</td>\n",
       "      <td>435516.905</td>\n",
       "    </tr>\n",
       "    <tr>\n",
       "      <th>TRANSFER</th>\n",
       "      <td>63.8</td>\n",
       "      <td>10000000.0</td>\n",
       "      <td>4097</td>\n",
       "      <td>445705.760</td>\n",
       "    </tr>\n",
       "  </tbody>\n",
       "</table>\n",
       "</div>"
      ],
      "text/plain": [
       "           min         max  count      median\n",
       "type                                         \n",
       "CASH_OUT   0.0  10000000.0   4116  435516.905\n",
       "TRANSFER  63.8  10000000.0   4097  445705.760"
      ]
     },
     "execution_count": 18,
     "metadata": {},
     "output_type": "execute_result"
    }
   ],
   "source": [
    "# Check basic stat of amount \n",
    "df[df['isFraud']==1].groupby('type')['amount'].agg(['min','max','count','median'])"
   ]
  },
  {
   "cell_type": "code",
   "execution_count": 19,
   "id": "699388d5",
   "metadata": {
    "execution": {
     "iopub.execute_input": "2023-03-12T17:50:46.896291Z",
     "iopub.status.busy": "2023-03-12T17:50:46.895570Z",
     "iopub.status.idle": "2023-03-12T17:50:46.906546Z",
     "shell.execute_reply": "2023-03-12T17:50:46.905699Z"
    },
    "papermill": {
     "duration": 0.033586,
     "end_time": "2023-03-12T17:50:46.909041",
     "exception": false,
     "start_time": "2023-03-12T17:50:46.875455",
     "status": "completed"
    },
    "tags": []
   },
   "outputs": [],
   "source": [
    "fraud_amount_df = df2[df2['isFraud'] == 1]['amount']"
   ]
  },
  {
   "cell_type": "code",
   "execution_count": 20,
   "id": "e72034ce",
   "metadata": {
    "execution": {
     "iopub.execute_input": "2023-03-12T17:50:46.948396Z",
     "iopub.status.busy": "2023-03-12T17:50:46.947641Z",
     "iopub.status.idle": "2023-03-12T17:50:47.138301Z",
     "shell.execute_reply": "2023-03-12T17:50:47.137080Z"
    },
    "papermill": {
     "duration": 0.212992,
     "end_time": "2023-03-12T17:50:47.140681",
     "exception": false,
     "start_time": "2023-03-12T17:50:46.927689",
     "status": "completed"
    },
    "tags": []
   },
   "outputs": [
    {
     "data": {
      "image/png": "[encoded data removed]",
      "text/plain": [
       "<Figure size 640x480 with 1 Axes>"
      ]
     },
     "metadata": {},
     "output_type": "display_data"
    }
   ],
   "source": [
    "# Boxplote\n",
    "\n",
    "plt.boxplot(fraud_amount_df)\n",
    "plt.ylabel('Fraud amount per time (Million)')\n",
    "plt.title('Boxplot of Fraud amount')\n",
    "plt.show()"
   ]
  },
  {
   "cell_type": "code",
   "execution_count": 21,
   "id": "0add7987",
   "metadata": {
    "execution": {
     "iopub.execute_input": "2023-03-12T17:50:47.179743Z",
     "iopub.status.busy": "2023-03-12T17:50:47.179306Z",
     "iopub.status.idle": "2023-03-12T17:50:47.186335Z",
     "shell.execute_reply": "2023-03-12T17:50:47.185093Z"
    },
    "papermill": {
     "duration": 0.029586,
     "end_time": "2023-03-12T17:50:47.188920",
     "exception": false,
     "start_time": "2023-03-12T17:50:47.159334",
     "status": "completed"
    },
    "tags": []
   },
   "outputs": [
    {
     "name": "stdout",
     "output_type": "stream",
     "text": [
      "The median for amount of most scammed money is 441423.44\n"
     ]
    }
   ],
   "source": [
    "\n",
    "print(f\"The median for amount of most scammed money is {fraud_amount_df.median()}\")"
   ]
  },
  {
   "cell_type": "markdown",
   "id": "186c7c0f",
   "metadata": {
    "papermill": {
     "duration": 0.018143,
     "end_time": "2023-03-12T17:50:47.225528",
     "exception": false,
     "start_time": "2023-03-12T17:50:47.207385",
     "status": "completed"
    },
    "tags": []
   },
   "source": [
    "The median amount scammed is 441423.44, so we can suggest that **if each transaction amounts to more than 400,000, it's considered fraudulent.**"
   ]
  },
  {
   "cell_type": "markdown",
   "id": "a21a2331",
   "metadata": {
    "papermill": {
     "duration": 0.018175,
     "end_time": "2023-03-12T17:50:47.262124",
     "exception": false,
     "start_time": "2023-03-12T17:50:47.243949",
     "status": "completed"
    },
    "tags": []
   },
   "source": [
    "#### Most of the time, how much balance is the destination account before and after doing the scam?"
   ]
  },
  {
   "cell_type": "code",
   "execution_count": 22,
   "id": "dd2c43f2",
   "metadata": {
    "execution": {
     "iopub.execute_input": "2023-03-12T17:50:47.302066Z",
     "iopub.status.busy": "2023-03-12T17:50:47.300927Z",
     "iopub.status.idle": "2023-03-12T17:50:47.317999Z",
     "shell.execute_reply": "2023-03-12T17:50:47.316871Z"
    },
    "papermill": {
     "duration": 0.039702,
     "end_time": "2023-03-12T17:50:47.320619",
     "exception": false,
     "start_time": "2023-03-12T17:50:47.280917",
     "status": "completed"
    },
    "tags": []
   },
   "outputs": [],
   "source": [
    "# Delete out-lier data of 'oldbalanceDest' that over 3STD\n",
    "\n",
    "Old_dest_bal = df2[df2['isFraud'] == 1]['oldbalanceDest']\n",
    "\n",
    "mean = np.mean(Old_dest_bal)\n",
    "std = np.std(Old_dest_bal)\n",
    "cut_off = std * 3\n",
    "lower, upper = mean - cut_off, mean + cut_off\n",
    "Old_dest_bal = [x for x in Old_dest_bal if lower < x < upper]\n"
   ]
  },
  {
   "cell_type": "code",
   "execution_count": 23,
   "id": "c58af348",
   "metadata": {
    "execution": {
     "iopub.execute_input": "2023-03-12T17:50:47.360962Z",
     "iopub.status.busy": "2023-03-12T17:50:47.359675Z",
     "iopub.status.idle": "2023-03-12T17:50:47.377027Z",
     "shell.execute_reply": "2023-03-12T17:50:47.375897Z"
    },
    "papermill": {
     "duration": 0.040405,
     "end_time": "2023-03-12T17:50:47.380060",
     "exception": false,
     "start_time": "2023-03-12T17:50:47.339655",
     "status": "completed"
    },
    "tags": []
   },
   "outputs": [],
   "source": [
    "# Delete out-lier data of 'newbalanceDest' that over 3STD\n",
    "\n",
    "New_dest_bal = df2[df2['isFraud'] == 1]['newbalanceDest']\n",
    "\n",
    "mean = np.mean(New_dest_bal)\n",
    "std = np.std(New_dest_bal)\n",
    "cut_off = std * 3\n",
    "lower, upper = mean - cut_off, mean + cut_off\n",
    "New_dest_bal = [x for x in New_dest_bal if lower < x < upper]\n"
   ]
  },
  {
   "cell_type": "code",
   "execution_count": 24,
   "id": "9c79ade9",
   "metadata": {
    "execution": {
     "iopub.execute_input": "2023-03-12T17:50:47.419859Z",
     "iopub.status.busy": "2023-03-12T17:50:47.419069Z",
     "iopub.status.idle": "2023-03-12T17:50:47.629010Z",
     "shell.execute_reply": "2023-03-12T17:50:47.627922Z"
    },
    "papermill": {
     "duration": 0.232528,
     "end_time": "2023-03-12T17:50:47.631591",
     "exception": false,
     "start_time": "2023-03-12T17:50:47.399063",
     "status": "completed"
    },
    "tags": []
   },
   "outputs": [
    {
     "data": {
      "image/png": "[encoded data removed]",
      "text/plain": [
       "<Figure size 640x480 with 1 Axes>"
      ]
     },
     "metadata": {},
     "output_type": "display_data"
    }
   ],
   "source": [
    "\n",
    "fig, ax = plt.subplots()\n",
    "ax.boxplot([Old_dest_bal, New_dest_bal])\n",
    "ax.set_xticklabels(['Old destination balance', 'New destination balance'])\n",
    "ax.set_ylabel('Amount')\n",
    "ax.set_title('Boxplot of destination account balance')\n",
    "plt.show()"
   ]
  },
  {
   "cell_type": "code",
   "execution_count": 25,
   "id": "cb3f0972",
   "metadata": {
    "execution": {
     "iopub.execute_input": "2023-03-12T17:50:47.672741Z",
     "iopub.status.busy": "2023-03-12T17:50:47.671760Z",
     "iopub.status.idle": "2023-03-12T17:50:47.680221Z",
     "shell.execute_reply": "2023-03-12T17:50:47.678962Z"
    },
    "papermill": {
     "duration": 0.031822,
     "end_time": "2023-03-12T17:50:47.682775",
     "exception": false,
     "start_time": "2023-03-12T17:50:47.650953",
     "status": "completed"
    },
    "tags": []
   },
   "outputs": [
    {
     "name": "stdout",
     "output_type": "stream",
     "text": [
      "The median for amount of Old balance destination before doing the scam is 0.0\n",
      "The median for amount of New balance destination after doing the scam is 0.0\n"
     ]
    }
   ],
   "source": [
    "\n",
    "print(f\"The median for amount of Old balance destination before doing the scam is {np.median(Old_dest_bal)}\")\n",
    "print(f\"The median for amount of New balance destination after doing the scam is {np.median(New_dest_bal)}\")"
   ]
  },
  {
   "cell_type": "markdown",
   "id": "cb320bbe",
   "metadata": {
    "papermill": {
     "duration": 0.018843,
     "end_time": "2023-03-12T17:50:47.721619",
     "exception": false,
     "start_time": "2023-03-12T17:50:47.702776",
     "status": "completed"
    },
    "tags": []
   },
   "source": [
    "This means that most scammers. There was no money in the account before the scam started. And when deceiving the victim, it may be withdrawn immediately. Therefore, extra caution should be considered for accounts with no funds at all."
   ]
  },
  {
   "cell_type": "markdown",
   "id": "fa70d3ee",
   "metadata": {
    "papermill": {
     "duration": 0.019312,
     "end_time": "2023-03-12T17:50:47.760220",
     "exception": false,
     "start_time": "2023-03-12T17:50:47.740908",
     "status": "completed"
    },
    "tags": []
   },
   "source": [
    "# Machine learning\n",
    "\n",
    "### Split data"
   ]
  },
  {
   "cell_type": "code",
   "execution_count": 26,
   "id": "b3587c62",
   "metadata": {
    "execution": {
     "iopub.execute_input": "2023-03-12T17:50:47.801396Z",
     "iopub.status.busy": "2023-03-12T17:50:47.800983Z",
     "iopub.status.idle": "2023-03-12T17:50:47.818645Z",
     "shell.execute_reply": "2023-03-12T17:50:47.817505Z"
    },
    "papermill": {
     "duration": 0.041021,
     "end_time": "2023-03-12T17:50:47.821017",
     "exception": false,
     "start_time": "2023-03-12T17:50:47.779996",
     "status": "completed"
    },
    "tags": []
   },
   "outputs": [
    {
     "data": {
      "text/html": [
       "<div>\n",
       "<style scoped>\n",
       "    .dataframe tbody tr th:only-of-type {\n",
       "        vertical-align: middle;\n",
       "    }\n",
       "\n",
       "    .dataframe tbody tr th {\n",
       "        vertical-align: top;\n",
       "    }\n",
       "\n",
       "    .dataframe thead th {\n",
       "        text-align: right;\n",
       "    }\n",
       "</style>\n",
       "<table border=\"1\" class=\"dataframe\">\n",
       "  <thead>\n",
       "    <tr style=\"text-align: right;\">\n",
       "      <th></th>\n",
       "      <th>step</th>\n",
       "      <th>type</th>\n",
       "      <th>amount</th>\n",
       "      <th>nameOrig</th>\n",
       "      <th>oldbalanceOrg</th>\n",
       "      <th>newbalanceOrig</th>\n",
       "      <th>nameDest</th>\n",
       "      <th>oldbalanceDest</th>\n",
       "      <th>newbalanceDest</th>\n",
       "      <th>isFraud</th>\n",
       "      <th>isFlaggedFraud</th>\n",
       "    </tr>\n",
       "  </thead>\n",
       "  <tbody>\n",
       "    <tr>\n",
       "      <th>2</th>\n",
       "      <td>1</td>\n",
       "      <td>0</td>\n",
       "      <td>181.00</td>\n",
       "      <td>C1305486145</td>\n",
       "      <td>181.0</td>\n",
       "      <td>0.0</td>\n",
       "      <td>C553264065</td>\n",
       "      <td>0.0</td>\n",
       "      <td>0.00</td>\n",
       "      <td>1</td>\n",
       "      <td>0</td>\n",
       "    </tr>\n",
       "    <tr>\n",
       "      <th>3</th>\n",
       "      <td>1</td>\n",
       "      <td>1</td>\n",
       "      <td>181.00</td>\n",
       "      <td>C840083671</td>\n",
       "      <td>181.0</td>\n",
       "      <td>0.0</td>\n",
       "      <td>C38997010</td>\n",
       "      <td>21182.0</td>\n",
       "      <td>0.00</td>\n",
       "      <td>1</td>\n",
       "      <td>0</td>\n",
       "    </tr>\n",
       "    <tr>\n",
       "      <th>15</th>\n",
       "      <td>1</td>\n",
       "      <td>1</td>\n",
       "      <td>229133.94</td>\n",
       "      <td>C905080434</td>\n",
       "      <td>15325.0</td>\n",
       "      <td>0.0</td>\n",
       "      <td>C476402209</td>\n",
       "      <td>5083.0</td>\n",
       "      <td>51513.44</td>\n",
       "      <td>0</td>\n",
       "      <td>0</td>\n",
       "    </tr>\n",
       "    <tr>\n",
       "      <th>19</th>\n",
       "      <td>1</td>\n",
       "      <td>0</td>\n",
       "      <td>215310.30</td>\n",
       "      <td>C1670993182</td>\n",
       "      <td>705.0</td>\n",
       "      <td>0.0</td>\n",
       "      <td>C1100439041</td>\n",
       "      <td>22425.0</td>\n",
       "      <td>0.00</td>\n",
       "      <td>0</td>\n",
       "      <td>0</td>\n",
       "    </tr>\n",
       "    <tr>\n",
       "      <th>24</th>\n",
       "      <td>1</td>\n",
       "      <td>0</td>\n",
       "      <td>311685.89</td>\n",
       "      <td>C1984094095</td>\n",
       "      <td>10835.0</td>\n",
       "      <td>0.0</td>\n",
       "      <td>C932583850</td>\n",
       "      <td>6267.0</td>\n",
       "      <td>2719172.89</td>\n",
       "      <td>0</td>\n",
       "      <td>0</td>\n",
       "    </tr>\n",
       "  </tbody>\n",
       "</table>\n",
       "</div>"
      ],
      "text/plain": [
       "    step  type     amount     nameOrig  oldbalanceOrg  newbalanceOrig  \\\n",
       "2      1     0     181.00  C1305486145          181.0             0.0   \n",
       "3      1     1     181.00   C840083671          181.0             0.0   \n",
       "15     1     1  229133.94   C905080434        15325.0             0.0   \n",
       "19     1     0  215310.30  C1670993182          705.0             0.0   \n",
       "24     1     0  311685.89  C1984094095        10835.0             0.0   \n",
       "\n",
       "       nameDest  oldbalanceDest  newbalanceDest  isFraud  isFlaggedFraud  \n",
       "2    C553264065             0.0            0.00        1               0  \n",
       "3     C38997010         21182.0            0.00        1               0  \n",
       "15   C476402209          5083.0        51513.44        0               0  \n",
       "19  C1100439041         22425.0            0.00        0               0  \n",
       "24   C932583850          6267.0      2719172.89        0               0  "
      ]
     },
     "execution_count": 26,
     "metadata": {},
     "output_type": "execute_result"
    }
   ],
   "source": [
    "# Check data\n",
    "df2.head()"
   ]
  },
  {
   "cell_type": "code",
   "execution_count": 27,
   "id": "2483aaed",
   "metadata": {
    "execution": {
     "iopub.execute_input": "2023-03-12T17:50:47.862173Z",
     "iopub.status.busy": "2023-03-12T17:50:47.861800Z",
     "iopub.status.idle": "2023-03-12T17:50:47.921605Z",
     "shell.execute_reply": "2023-03-12T17:50:47.920377Z"
    },
    "papermill": {
     "duration": 0.083584,
     "end_time": "2023-03-12T17:50:47.924221",
     "exception": false,
     "start_time": "2023-03-12T17:50:47.840637",
     "status": "completed"
    },
    "tags": []
   },
   "outputs": [
    {
     "name": "stdout",
     "output_type": "stream",
     "text": [
      "(2770409, 7)\n",
      "(2770409,)\n"
     ]
    }
   ],
   "source": [
    "# X = feature variables, y = a target variable\n",
    "X = df2.drop(['nameOrig','nameDest','isFraud','isFlaggedFraud'], axis=1)\n",
    "y = df2['isFraud']\n",
    "print(X.shape)\n",
    "print(y.shape)"
   ]
  },
  {
   "cell_type": "code",
   "execution_count": 28,
   "id": "8f08bec0",
   "metadata": {
    "execution": {
     "iopub.execute_input": "2023-03-12T17:50:47.966415Z",
     "iopub.status.busy": "2023-03-12T17:50:47.966039Z",
     "iopub.status.idle": "2023-03-12T17:50:48.462631Z",
     "shell.execute_reply": "2023-03-12T17:50:48.461380Z"
    },
    "papermill": {
     "duration": 0.520404,
     "end_time": "2023-03-12T17:50:48.465407",
     "exception": false,
     "start_time": "2023-03-12T17:50:47.945003",
     "status": "completed"
    },
    "tags": []
   },
   "outputs": [
    {
     "name": "stdout",
     "output_type": "stream",
     "text": [
      "X_train: (2216327, 7)\n",
      "y_train: (2216327,)\n",
      "X_test:  (554082, 7)\n",
      "y_test:  (554082,)\n"
     ]
    }
   ],
   "source": [
    "# split data 80% for train data set\n",
    "X_train, X_test, y_train, y_test = train_test_split(X, y, test_size = 0.2, random_state = 42)\n",
    "\n",
    "print(f\"X_train: {X_train.shape}\")\n",
    "print(f\"y_train: {y_train.shape}\")\n",
    "print(f\"X_test:  {X_test.shape}\")\n",
    "print(f\"y_test:  {y_test.shape}\")"
   ]
  },
  {
   "cell_type": "markdown",
   "id": "21bfe884",
   "metadata": {
    "papermill": {
     "duration": 0.019067,
     "end_time": "2023-03-12T17:50:48.503949",
     "exception": false,
     "start_time": "2023-03-12T17:50:48.484882",
     "status": "completed"
    },
    "tags": []
   },
   "source": [
    "### Model fitting"
   ]
  },
  {
   "cell_type": "code",
   "execution_count": 29,
   "id": "401ea80f",
   "metadata": {
    "execution": {
     "iopub.execute_input": "2023-03-12T17:50:48.545191Z",
     "iopub.status.busy": "2023-03-12T17:50:48.544801Z",
     "iopub.status.idle": "2023-03-12T17:51:32.136567Z",
     "shell.execute_reply": "2023-03-12T17:51:32.135298Z"
    },
    "papermill": {
     "duration": 43.634579,
     "end_time": "2023-03-12T17:51:32.158155",
     "exception": false,
     "start_time": "2023-03-12T17:50:48.523576",
     "status": "completed"
    },
    "tags": []
   },
   "outputs": [
    {
     "name": "stdout",
     "output_type": "stream",
     "text": [
      "Accuracy of DecisionTree model from train data : 1.0\n"
     ]
    }
   ],
   "source": [
    "# DecisionTree Classifier\n",
    "\n",
    "from sklearn.tree import DecisionTreeClassifier\n",
    "dt = DecisionTreeClassifier()\n",
    "dt_model = dt.fit(X_train, y_train)\n",
    "\n",
    "# Evaluate model\n",
    "dt_train_pred = dt_model.predict(X_train)\n",
    "dt_train_acc = accuracy_score(y_train, dt_train_pred)\n",
    "print(f\"Accuracy of DecisionTree model from train data : {dt_train_acc}\")"
   ]
  },
  {
   "cell_type": "code",
   "execution_count": 30,
   "id": "b624a4f3",
   "metadata": {
    "execution": {
     "iopub.execute_input": "2023-03-12T17:51:32.199722Z",
     "iopub.status.busy": "2023-03-12T17:51:32.199268Z",
     "iopub.status.idle": "2023-03-12T17:53:13.850724Z",
     "shell.execute_reply": "2023-03-12T17:53:13.849429Z"
    },
    "papermill": {
     "duration": 101.694859,
     "end_time": "2023-03-12T17:53:13.873030",
     "exception": false,
     "start_time": "2023-03-12T17:51:32.178171",
     "status": "completed"
    },
    "tags": []
   },
   "outputs": [
    {
     "name": "stdout",
     "output_type": "stream",
     "text": [
      "Accuracy of K-Nearest Neighbors model from train data : 0.9991409209922543\n"
     ]
    }
   ],
   "source": [
    "# K-Nearest Neighbors (KNN) Classifier\n",
    "\n",
    "from sklearn.neighbors import KNeighborsClassifier\n",
    "knn = KNeighborsClassifier()\n",
    "knn_model = knn.fit(X_train, y_train)\n",
    "\n",
    "# Evaluate model\n",
    "knn_train_pred = knn_model.predict(X_train)\n",
    "knn_train_acc = accuracy_score(y_train, knn_train_pred)\n",
    "print(f\"Accuracy of K-Nearest Neighbors model from train data : {knn_train_acc}\")"
   ]
  },
  {
   "cell_type": "code",
   "execution_count": 31,
   "id": "c141fc6f",
   "metadata": {
    "execution": {
     "iopub.execute_input": "2023-03-12T17:53:13.914579Z",
     "iopub.status.busy": "2023-03-12T17:53:13.914194Z",
     "iopub.status.idle": "2023-03-12T17:54:11.296017Z",
     "shell.execute_reply": "2023-03-12T17:54:11.294524Z"
    },
    "papermill": {
     "duration": 57.42528,
     "end_time": "2023-03-12T17:54:11.318246",
     "exception": false,
     "start_time": "2023-03-12T17:53:13.892966",
     "status": "completed"
    },
    "tags": []
   },
   "outputs": [
    {
     "name": "stdout",
     "output_type": "stream",
     "text": [
      "Accuracy of K-Nearest Neighbors model from train data : 0.9998777256244228\n"
     ]
    }
   ],
   "source": [
    "# Random Forest Classifier\n",
    "\n",
    "from sklearn.ensemble import RandomForestClassifier\n",
    "rf = RandomForestClassifier(n_estimators=5, random_state=42)\n",
    "rf_model = rf.fit(X_train, y_train)\n",
    "\n",
    "# Evaluate model\n",
    "rf_train_pred = rf_model.predict(X_train)\n",
    "rf_train_acc = accuracy_score(y_train, rf_train_pred)\n",
    "print(f\"Accuracy of K-Nearest Neighbors model from train data : {rf_train_acc}\")"
   ]
  },
  {
   "cell_type": "markdown",
   "id": "254c5c79",
   "metadata": {
    "papermill": {
     "duration": 0.019331,
     "end_time": "2023-03-12T17:54:11.357257",
     "exception": false,
     "start_time": "2023-03-12T17:54:11.337926",
     "status": "completed"
    },
    "tags": []
   },
   "source": [
    "### Model evaluation"
   ]
  },
  {
   "cell_type": "code",
   "execution_count": 32,
   "id": "35113879",
   "metadata": {
    "execution": {
     "iopub.execute_input": "2023-03-12T17:54:11.398903Z",
     "iopub.status.busy": "2023-03-12T17:54:11.398474Z",
     "iopub.status.idle": "2023-03-12T17:54:11.945656Z",
     "shell.execute_reply": "2023-03-12T17:54:11.943953Z"
    },
    "papermill": {
     "duration": 0.571834,
     "end_time": "2023-03-12T17:54:11.948721",
     "exception": false,
     "start_time": "2023-03-12T17:54:11.376887",
     "status": "completed"
    },
    "tags": []
   },
   "outputs": [
    {
     "name": "stdout",
     "output_type": "stream",
     "text": [
      "DecisionTree Accuracy score: 1.0\n",
      "DecisionTree Precision score: 1.0\n",
      "DecisionTree Recall score: 1.0\n",
      "DecisionTree F1 score: 1.0\n"
     ]
    }
   ],
   "source": [
    "# DecisionTree Classifier\n",
    "dt_pred = dt_model.predict(X_test)\n",
    "\n",
    "dt_acc = accuracy_score(y_test, dt_pred)\n",
    "dt_prec = precision_score(y_test, dt_pred, average='micro')\n",
    "dt_rec = recall_score(y_test, dt_pred, average='micro')\n",
    "dt_f1 = f1_score(y_test, dt_pred, average = 'micro')\n",
    "\n",
    "\n",
    "print(f\"DecisionTree Accuracy score: {round(dt_acc,2)}\")\n",
    "print(f\"DecisionTree Precision score: {round(dt_prec,2)}\")\n",
    "print(f\"DecisionTree Recall score: {round(dt_rec,2)}\")\n",
    "print(f\"DecisionTree F1 score: {round(dt_f1,2)}\")"
   ]
  },
  {
   "cell_type": "code",
   "execution_count": 33,
   "id": "ba726883",
   "metadata": {
    "execution": {
     "iopub.execute_input": "2023-03-12T17:54:11.991678Z",
     "iopub.status.busy": "2023-03-12T17:54:11.990647Z",
     "iopub.status.idle": "2023-03-12T17:54:37.073112Z",
     "shell.execute_reply": "2023-03-12T17:54:37.071458Z"
    },
    "papermill": {
     "duration": 25.107556,
     "end_time": "2023-03-12T17:54:37.076286",
     "exception": false,
     "start_time": "2023-03-12T17:54:11.968730",
     "status": "completed"
    },
    "tags": []
   },
   "outputs": [
    {
     "name": "stdout",
     "output_type": "stream",
     "text": [
      "K-Nearest Neighbors Accuracy score: 1.0\n",
      "K-Nearest Neighbors Precision score: 1.0\n",
      "K-Nearest Neighbors Recall score: 1.0\n",
      "K-Nearest Neighbors F1 score: 1.0\n"
     ]
    }
   ],
   "source": [
    "# K-Nearest Neighbors (KNN) Classifier\n",
    "knn_pred = knn_model.predict(X_test)\n",
    "\n",
    "knn_acc = accuracy_score(y_test, knn_pred)\n",
    "knn_prec = precision_score(y_test, knn_pred, average='micro')\n",
    "knn_rec = recall_score(y_test, knn_pred, average='micro')\n",
    "knn_f1 = f1_score(y_test, knn_pred, average = 'micro')\n",
    "\n",
    "\n",
    "print(f\"K-Nearest Neighbors Accuracy score: {round(knn_acc,2)}\")\n",
    "print(f\"K-Nearest Neighbors Precision score: {round(knn_prec,2)}\")\n",
    "print(f\"K-Nearest Neighbors Recall score: {round(knn_rec,2)}\")\n",
    "print(f\"K-Nearest Neighbors F1 score: {round(knn_f1,2)}\")"
   ]
  },
  {
   "cell_type": "code",
   "execution_count": 34,
   "id": "f34d2a36",
   "metadata": {
    "execution": {
     "iopub.execute_input": "2023-03-12T17:54:37.118471Z",
     "iopub.status.busy": "2023-03-12T17:54:37.118085Z",
     "iopub.status.idle": "2023-03-12T17:54:37.963022Z",
     "shell.execute_reply": "2023-03-12T17:54:37.961154Z"
    },
    "papermill": {
     "duration": 0.870396,
     "end_time": "2023-03-12T17:54:37.966848",
     "exception": false,
     "start_time": "2023-03-12T17:54:37.096452",
     "status": "completed"
    },
    "tags": []
   },
   "outputs": [
    {
     "name": "stdout",
     "output_type": "stream",
     "text": [
      "Random Forest Accuracy score: 1.0\n",
      "Random Forest Precision score: 1.0\n",
      "Random Forest Recall score: 1.0\n",
      "Random Forest F1 score: 1.0\n"
     ]
    }
   ],
   "source": [
    "# Random Forest Classifier\n",
    "rf_pred = rf_model.predict(X_test)\n",
    "\n",
    "rf_acc = accuracy_score(y_test, rf_pred)\n",
    "rf_prec = precision_score(y_test, rf_pred, average='micro')\n",
    "rf_rec = recall_score(y_test, rf_pred, average='micro')\n",
    "rf_f1 = f1_score(y_test, rf_pred, average = 'micro')\n",
    "\n",
    "\n",
    "print(f\"Random Forest Accuracy score: {round(rf_acc,2)}\")\n",
    "print(f\"Random Forest Precision score: {round(rf_prec,2)}\")\n",
    "print(f\"Random Forest Recall score: {round(rf_rec,2)}\")\n",
    "print(f\"Random Forest F1 score: {round(rf_f1,2)}\")"
   ]
  },
  {
   "cell_type": "code",
   "execution_count": 35,
   "id": "acac14a1",
   "metadata": {
    "execution": {
     "iopub.execute_input": "2023-03-12T17:54:38.009000Z",
     "iopub.status.busy": "2023-03-12T17:54:38.008597Z",
     "iopub.status.idle": "2023-03-12T17:54:38.024288Z",
     "shell.execute_reply": "2023-03-12T17:54:38.023123Z"
    },
    "papermill": {
     "duration": 0.039539,
     "end_time": "2023-03-12T17:54:38.026594",
     "exception": false,
     "start_time": "2023-03-12T17:54:37.987055",
     "status": "completed"
    },
    "tags": []
   },
   "outputs": [
    {
     "data": {
      "text/html": [
       "<div>\n",
       "<style scoped>\n",
       "    .dataframe tbody tr th:only-of-type {\n",
       "        vertical-align: middle;\n",
       "    }\n",
       "\n",
       "    .dataframe tbody tr th {\n",
       "        vertical-align: top;\n",
       "    }\n",
       "\n",
       "    .dataframe thead th {\n",
       "        text-align: right;\n",
       "    }\n",
       "</style>\n",
       "<table border=\"1\" class=\"dataframe\">\n",
       "  <thead>\n",
       "    <tr style=\"text-align: right;\">\n",
       "      <th></th>\n",
       "      <th>Score</th>\n",
       "      <th>DecisionTree</th>\n",
       "      <th>KNN</th>\n",
       "      <th>Random Forest</th>\n",
       "    </tr>\n",
       "  </thead>\n",
       "  <tbody>\n",
       "    <tr>\n",
       "      <th>0</th>\n",
       "      <td>Accuracy</td>\n",
       "      <td>1.0</td>\n",
       "      <td>1.0</td>\n",
       "      <td>1.0</td>\n",
       "    </tr>\n",
       "    <tr>\n",
       "      <th>1</th>\n",
       "      <td>Precision</td>\n",
       "      <td>1.0</td>\n",
       "      <td>1.0</td>\n",
       "      <td>1.0</td>\n",
       "    </tr>\n",
       "    <tr>\n",
       "      <th>2</th>\n",
       "      <td>Recall</td>\n",
       "      <td>1.0</td>\n",
       "      <td>1.0</td>\n",
       "      <td>1.0</td>\n",
       "    </tr>\n",
       "    <tr>\n",
       "      <th>3</th>\n",
       "      <td>F1</td>\n",
       "      <td>1.0</td>\n",
       "      <td>1.0</td>\n",
       "      <td>1.0</td>\n",
       "    </tr>\n",
       "  </tbody>\n",
       "</table>\n",
       "</div>"
      ],
      "text/plain": [
       "       Score  DecisionTree  KNN  Random Forest\n",
       "0   Accuracy           1.0  1.0            1.0\n",
       "1  Precision           1.0  1.0            1.0\n",
       "2     Recall           1.0  1.0            1.0\n",
       "3         F1           1.0  1.0            1.0"
      ]
     },
     "execution_count": 35,
     "metadata": {},
     "output_type": "execute_result"
    }
   ],
   "source": [
    "# Compare score\n",
    "compare_score = pd.DataFrame({'Score': ['Accuracy', 'Precision', 'Recall','F1']\\\n",
    "                              ,'DecisionTree': [round(dt_acc,2),round(dt_prec,2),round(dt_rec,2),round(dt_f1,2)]\\\n",
    "                             ,'KNN': [round(knn_acc,2),round(knn_prec,2),round(knn_rec,2),round(knn_f1,2)]\\\n",
    "                             ,'Random Forest': [round(rf_acc,2),round(rf_prec,2),round(rf_rec,2),round(rf_f1,2)]})\n",
    "compare_score"
   ]
  },
  {
   "cell_type": "markdown",
   "id": "8f4a6fa8",
   "metadata": {
    "papermill": {
     "duration": 0.019411,
     "end_time": "2023-03-12T17:54:38.066139",
     "exception": false,
     "start_time": "2023-03-12T17:54:38.046728",
     "status": "completed"
    },
    "tags": []
   },
   "source": [
    "From the scores of each model, the predictions of the three models. The accuracy is accurate to 100%. This is a rather surprising and somewhat unreasonable result in reality."
   ]
  },
  {
   "cell_type": "markdown",
   "id": "675e08b5",
   "metadata": {
    "papermill": {
     "duration": 0.019518,
     "end_time": "2023-03-12T17:54:38.105665",
     "exception": false,
     "start_time": "2023-03-12T17:54:38.086147",
     "status": "completed"
    },
    "tags": []
   },
   "source": [
    "### Deep checking"
   ]
  },
  {
   "cell_type": "code",
   "execution_count": 36,
   "id": "0f25891c",
   "metadata": {
    "execution": {
     "iopub.execute_input": "2023-03-12T17:54:38.148303Z",
     "iopub.status.busy": "2023-03-12T17:54:38.147566Z",
     "iopub.status.idle": "2023-03-12T17:54:38.363974Z",
     "shell.execute_reply": "2023-03-12T17:54:38.362751Z"
    },
    "papermill": {
     "duration": 0.240942,
     "end_time": "2023-03-12T17:54:38.366643",
     "exception": false,
     "start_time": "2023-03-12T17:54:38.125701",
     "status": "completed"
    },
    "tags": []
   },
   "outputs": [
    {
     "data": {
      "text/html": [
       "<div>\n",
       "<style scoped>\n",
       "    .dataframe tbody tr th:only-of-type {\n",
       "        vertical-align: middle;\n",
       "    }\n",
       "\n",
       "    .dataframe tbody tr th {\n",
       "        vertical-align: top;\n",
       "    }\n",
       "\n",
       "    .dataframe thead th {\n",
       "        text-align: right;\n",
       "    }\n",
       "</style>\n",
       "<table border=\"1\" class=\"dataframe\">\n",
       "  <thead>\n",
       "    <tr style=\"text-align: right;\">\n",
       "      <th></th>\n",
       "      <th>Predicted</th>\n",
       "      <th>True</th>\n",
       "    </tr>\n",
       "  </thead>\n",
       "  <tbody>\n",
       "    <tr>\n",
       "      <th>0</th>\n",
       "      <td>0.0</td>\n",
       "      <td>NaN</td>\n",
       "    </tr>\n",
       "    <tr>\n",
       "      <th>1</th>\n",
       "      <td>0.0</td>\n",
       "      <td>NaN</td>\n",
       "    </tr>\n",
       "    <tr>\n",
       "      <th>2</th>\n",
       "      <td>0.0</td>\n",
       "      <td>NaN</td>\n",
       "    </tr>\n",
       "    <tr>\n",
       "      <th>3</th>\n",
       "      <td>0.0</td>\n",
       "      <td>1.0</td>\n",
       "    </tr>\n",
       "    <tr>\n",
       "      <th>4</th>\n",
       "      <td>0.0</td>\n",
       "      <td>NaN</td>\n",
       "    </tr>\n",
       "    <tr>\n",
       "      <th>...</th>\n",
       "      <td>...</td>\n",
       "      <td>...</td>\n",
       "    </tr>\n",
       "    <tr>\n",
       "      <th>6362608</th>\n",
       "      <td>NaN</td>\n",
       "      <td>1.0</td>\n",
       "    </tr>\n",
       "    <tr>\n",
       "      <th>6362609</th>\n",
       "      <td>NaN</td>\n",
       "      <td>1.0</td>\n",
       "    </tr>\n",
       "    <tr>\n",
       "      <th>6362612</th>\n",
       "      <td>NaN</td>\n",
       "      <td>1.0</td>\n",
       "    </tr>\n",
       "    <tr>\n",
       "      <th>6362615</th>\n",
       "      <td>NaN</td>\n",
       "      <td>1.0</td>\n",
       "    </tr>\n",
       "    <tr>\n",
       "      <th>6362619</th>\n",
       "      <td>NaN</td>\n",
       "      <td>1.0</td>\n",
       "    </tr>\n",
       "  </tbody>\n",
       "</table>\n",
       "<p>1059276 rows × 2 columns</p>\n",
       "</div>"
      ],
      "text/plain": [
       "         Predicted  True\n",
       "0              0.0   NaN\n",
       "1              0.0   NaN\n",
       "2              0.0   NaN\n",
       "3              0.0   1.0\n",
       "4              0.0   NaN\n",
       "...            ...   ...\n",
       "6362608        NaN   1.0\n",
       "6362609        NaN   1.0\n",
       "6362612        NaN   1.0\n",
       "6362615        NaN   1.0\n",
       "6362619        NaN   1.0\n",
       "\n",
       "[1059276 rows x 2 columns]"
      ]
     },
     "execution_count": 36,
     "metadata": {},
     "output_type": "execute_result"
    }
   ],
   "source": [
    "# Compare result  \n",
    "\n",
    "# create Pandas Series from the NumPy arrays\n",
    "predicted_series = pd.Series(dt_pred, name=\"Predicted\")\n",
    "true_series = pd.Series(y_test, name=\"True\")\n",
    "\n",
    "# concatenate the two Series horizontally into a DataFrame\n",
    "result = pd.concat([predicted_series, true_series], axis=1)\n",
    "\n",
    "pd.DataFrame(result)"
   ]
  },
  {
   "cell_type": "code",
   "execution_count": 37,
   "id": "77e2173c",
   "metadata": {
    "execution": {
     "iopub.execute_input": "2023-03-12T17:54:38.409154Z",
     "iopub.status.busy": "2023-03-12T17:54:38.408772Z",
     "iopub.status.idle": "2023-03-12T17:54:38.432237Z",
     "shell.execute_reply": "2023-03-12T17:54:38.430763Z"
    },
    "papermill": {
     "duration": 0.048156,
     "end_time": "2023-03-12T17:54:38.435169",
     "exception": false,
     "start_time": "2023-03-12T17:54:38.387013",
     "status": "completed"
    },
    "tags": []
   },
   "outputs": [
    {
     "name": "stdout",
     "output_type": "stream",
     "text": [
      "Ratio of Fraud is 0.3%\n"
     ]
    }
   ],
   "source": [
    "# Check ratio of Fraud\n",
    "df3=pd.DataFrame(y_test)\n",
    "fraud_pct = round((df3['isFraud'].value_counts()[1]/(df3['isFraud'].value_counts()[1]+df3['isFraud'].value_counts()[0]))*100,2)\n",
    "print(f\"Ratio of Fraud is {fraud_pct}%\")"
   ]
  },
  {
   "cell_type": "markdown",
   "id": "1db0cbc7",
   "metadata": {
    "papermill": {
     "duration": 0.020993,
     "end_time": "2023-03-12T17:54:38.477444",
     "exception": false,
     "start_time": "2023-03-12T17:54:38.456451",
     "status": "completed"
    },
    "tags": []
   },
   "source": [
    "After further analysis, we found that sometimes the prediction results were not yet deceived (0) while were actually deceived (1), indicating that, The result of the model is 100% accurate still not as accurate as it should be. This is because the number of data considered fraudulent(1) is only 0.3% of the test dataset, which is very small."
   ]
  },
  {
   "cell_type": "markdown",
   "id": "dc18bc22",
   "metadata": {
    "papermill": {
     "duration": 0.019927,
     "end_time": "2023-03-12T17:54:38.517950",
     "exception": false,
     "start_time": "2023-03-12T17:54:38.498023",
     "status": "completed"
    },
    "tags": []
   },
   "source": [
    "# Conclusion\n",
    "\n",
    "From the data, we found that\n",
    "* The types of transactions is fraudulent are 'TRANSFER' and 'CASH_OUT'\n",
    "\n",
    "* Many feature are less correlation with isFraud target.\n",
    "\n",
    "* In most cases, step 212 (estimate Day 9) are they frauded\n",
    "\n",
    "* Person who has been deceived will it not be deceived again\n",
    "\n",
    "* The median amount scammed per time is 441423.44\n",
    "\n",
    "* Most scammers there was no money in the account before the scam started.\n",
    "\n",
    "* The prediction model accuracy is accurate to 100%. This is unreasonable result in reality."
   ]
  },
  {
   "cell_type": "markdown",
   "id": "c9116ea5",
   "metadata": {
    "papermill": {
     "duration": 0.020388,
     "end_time": "2023-03-12T17:54:38.559155",
     "exception": false,
     "start_time": "2023-03-12T17:54:38.538767",
     "status": "completed"
    },
    "tags": []
   },
   "source": [
    "# Recommendation\n",
    "\n",
    "Here is my advice\n",
    "\n",
    "* The data has a low effect of fraud, just 0.3% in the test data set. As a result, the model's prediction results are inconsistent with reality.\n",
    "\n",
    "* The information is the result of fraud already. Then we will know after being scammed.\n",
    "\n",
    "* There is no information on the timing of actual transactions. Therefore, it is not possible to analyze the transaction patterns of scammers whether How many minutes are there between transactions?\n",
    "\n",
    "* We can consider transactions over 400,000 to be suspected to be fraudulent.\n",
    "\n",
    "* We can consider suspecting that the destination account has no balance. It may be an account of fraudsters.\n",
    "\n",
    "* There should be more scammers and more realistic information. It remains to develop a more realistic prediction model."
   ]
  }
 ],
 "metadata": {
  "kernelspec": {
   "display_name": "Python 3",
   "language": "python",
   "name": "python3"
  },
  "language_info": {
   "codemirror_mode": {
    "name": "ipython",
    "version": 3
   },
   "file_extension": ".py",
   "mimetype": "text/x-python",
   "name": "python",
   "nbconvert_exporter": "python",
   "pygments_lexer": "ipython3",
   "version": "3.7.12"
  },
  "papermill": {
   "default_parameters": {},
   "duration": 269.248761,
   "end_time": "2023-03-12T17:54:39.805119",
   "environment_variables": {},
   "exception": null,
   "input_path": "__notebook__.ipynb",
   "output_path": "__notebook__.ipynb",
   "parameters": {},
   "start_time": "2023-03-12T17:50:10.556358",
   "version": "2.4.0"
  }
 },
 "nbformat": 4,
 "nbformat_minor": 5
}
